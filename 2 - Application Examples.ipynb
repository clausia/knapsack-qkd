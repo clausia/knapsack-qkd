{
 "cells": [
  {
   "cell_type": "markdown",
   "id": "543283b1",
   "metadata": {},
   "source": [
    "<div align=\"center\" style=\"color: #2471A3; font-size: 30px; font-weight: bold;\">Application Examples</div>"
   ]
  },
  {
   "cell_type": "markdown",
   "id": "d67f0411",
   "metadata": {},
   "source": [
    "<div align=\"right\" style=\"font-size: 15px; font-weight: normal;\">Team 4</div>\n",
    "<div align=\"right\" style=\"font-size: 15px; font-weight: normal;\">[Our names]</div>"
   ]
  },
  {
   "cell_type": "markdown",
   "id": "3fbc3f62",
   "metadata": {},
   "source": [
    "# Contents\n",
    "\n",
    "1. [Introduction](#intro)\n",
    "    1. [Applications beyond the mountaineer](#intro.applications)\n",
    "    2. [Knapsack problem variants](#intro.variants)\n",
    "2. [Real World Applications](#realw)\n",
    "    1. [Example 1](#realw.ex1)\n",
    "    2. [Example 2](#realw.ex2)\n",
    "    3. [Example 3](#realw.ex3)\n",
    "3. [References](#refs)"
   ]
  },
  {
   "cell_type": "markdown",
   "id": "98b92c7b",
   "metadata": {},
   "source": [
    "<a id=\"intro\"></a>\n",
    "# Introduction"
   ]
  },
  {
   "cell_type": "markdown",
   "id": "042f5987",
   "metadata": {},
   "source": [
    "<a id=\"intro.applications\"></a>\n",
    "## Applications beyond the mountaineer"
   ]
  },
  {
   "cell_type": "markdown",
   "id": "4fce0bb8",
   "metadata": {},
   "source": [
    "### Investment problem\n",
    "Considering the mountain climber characteristic above in the context of business rather than leisure leads to a second classical interpretation of KP as an investment problem. An individual or institutional investor has a certain amount of money $c$ available that he wants to invest in profitable business projects. As a basis for his decisions, he compiles a long list of possible investments, the required amount of investment $w_j$, and the expected net return $p_j$ over a fixed period. The risk aspect is not explicitly taken into account here. Obviously, KP can formulate the combination of binary decisions for each investment so that the overall return on investment is as large as possible.\n",
    "\n",
    "### Airline cargo business\n",
    "The operator of a cargo airline has to decide which of the transport requests made by customers to fulfill, that is, how to load a particular plane. His decision is based on a list of requests that contains the weight $w_j$ of each package and the fee per unit weight charged for each request. He bears in mind that this rate is not fixed, but depends on the particular long-term agreements with each client. Therefore, the profit $p_j$ that the company obtains by accepting a request and placing the corresponding package on the plane is not directly proportional to the weight of the package. Naturally, each aircraft has a specified maximum capacity $c$ which cannot be exceeded by the total weight of the selected packages. This logistical problem is a direct analog to packing a mountaineer's backpack.\n",
    "\n",
    "### Log cutting\n",
    "While all of the above examples contain elements of \"packaging\", KP can also be viewed as a \"cutting\" problem. Suppose a sawmill needs to cut a log into shorter pieces. However, the pieces must be cut into some predefined standard lengths $w_j$, where each length has an associated selling price $p_j$. To maximize profit from the log, the sawmill can formulate the problem as a KP where the length of the log defines the capacity $c$."
   ]
  },
  {
   "cell_type": "markdown",
   "id": "ccb2ddbd",
   "metadata": {},
   "source": [
    "<a id=\"intro.variants\"></a>\n",
    "## Knapsack problem variants"
   ]
  },
  {
   "cell_type": "markdown",
   "id": "d7fb9412",
   "metadata": {},
   "source": [
    "Consider again the above problem of the cargo airline operator. In a different scenario, the benefit gained from accepting a package may be directly proportional to its weight. In this case, the optimal aircraft loading is achieved by filling the aircraft with as much weight as possible or, equivalently, by setting $p_j = w_j$ to KP. The resulting optimization problem is known as the **Subset Sum Problem (SSP)** because we are looking for a subset of the values $w_j$ with the sum as close as possible to, but not exceeding, the value given goal $c$. Replacing the objective function (1) in KP we can define SSP as:\n",
    "\n",
    "$$\\texttt {maximize} \\; \\sum_{j=1}^{N} w_jx_j$$\n",
    "\n",
    "[...]\n",
    "\n",
    "[Bounded Knapsack Problem, BKP]\n",
    "\n",
    "[...]\n",
    "\n",
    "[Unbounded Knapsack Problem, UKP]\n",
    "\n",
    "[...]"
   ]
  },
  {
   "cell_type": "markdown",
   "id": "8f863ca4",
   "metadata": {},
   "source": [
    "<a id=\"realw\"></a>\n",
    "# Real World Applications"
   ]
  },
  {
   "cell_type": "markdown",
   "id": "f63719fa",
   "metadata": {},
   "source": [
    "[...]"
   ]
  },
  {
   "cell_type": "markdown",
   "id": "f4feb1f2",
   "metadata": {},
   "source": [
    "<a id=\"realw.ex1\"></a>\n",
    "## Example 1"
   ]
  },
  {
   "cell_type": "markdown",
   "id": "5228f289",
   "metadata": {},
   "source": [
    "[Talk about the problem, specify it]\n",
    "\n",
    "[...]\n",
    "\n",
    "[Solve it with Qiskit's Knapsack class]\n",
    "\n",
    "[...]"
   ]
  },
  {
   "cell_type": "markdown",
   "id": "81ef0e03",
   "metadata": {},
   "source": [
    "<a id=\"realw.ex2\"></a>\n",
    "## Example 2"
   ]
  },
  {
   "cell_type": "markdown",
   "id": "bd0c68ca",
   "metadata": {},
   "source": [
    "[Talk about the problem, specify it]\n",
    "\n",
    "[...]\n",
    "\n",
    "[Solve it with Qiskit's Knapsack class]\n",
    "\n",
    "[...]"
   ]
  },
  {
   "cell_type": "markdown",
   "id": "b2ae2432",
   "metadata": {},
   "source": [
    "<a id=\"realw.ex3\"></a>\n",
    "## Example 3"
   ]
  },
  {
   "cell_type": "markdown",
   "id": "47bcf4b2",
   "metadata": {},
   "source": [
    "[Talk about the problem, specify it]\n",
    "\n",
    "[...]\n",
    "\n",
    "[Solve it with Qiskit's Knapsack class]\n",
    "\n",
    "[...]"
   ]
  },
  {
   "cell_type": "markdown",
   "id": "693467d6",
   "metadata": {},
   "source": [
    "<a id=\"refs\"></a>\n",
    "# References"
   ]
  },
  {
   "cell_type": "markdown",
   "id": "9ed0d713",
   "metadata": {},
   "source": [
    "- [Ref1](https://ref1.com)\n",
    "- [Ref2](https://ref2.com)\n",
    "- [Ref3](https://ref3.com)"
   ]
  },
  {
   "cell_type": "code",
   "execution_count": null,
   "id": "9ee6b48c",
   "metadata": {},
   "outputs": [],
   "source": []
  }
 ],
 "metadata": {
  "kernelspec": {
   "display_name": "Python 3 (ipykernel)",
   "language": "python",
   "name": "python3"
  },
  "language_info": {
   "codemirror_mode": {
    "name": "ipython",
    "version": 3
   },
   "file_extension": ".py",
   "mimetype": "text/x-python",
   "name": "python",
   "nbconvert_exporter": "python",
   "pygments_lexer": "ipython3",
   "version": "3.9.12"
  }
 },
 "nbformat": 4,
 "nbformat_minor": 5
}
