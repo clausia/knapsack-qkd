{
 "cells": [
  {
   "cell_type": "markdown",
   "id": "e7938a99",
   "metadata": {},
   "source": [
    "<div align=\"center\" style=\"color: #2471A3; font-size: 30px; font-weight: bold;\">Knapsack used in Cryptography</div>"
   ]
  },
  {
   "cell_type": "markdown",
   "id": "9f294b6b",
   "metadata": {},
   "source": [
    "<div align=\"right\" style=\"font-size: 15px; font-weight: normal;\">Team 4</div>\n",
    "<div align=\"right\" style=\"font-size: 15px; font-weight: normal;\">[Our names]</div>"
   ]
  },
  {
   "cell_type": "markdown",
   "id": "38104bd1",
   "metadata": {},
   "source": [
    "# Contents\n",
    "\n",
    "1. [Introduction](#intro)\n",
    "    1. [Knapsack cryptosystems](#intro.crypto)\n",
    "    2. [Merkle–Hellman knapsack cryptosystem](#intro.merkle)\n",
    "    2. [(Other or not) knapsack cryptosystem](#intro.other)\n",
    "2. [Quantum Cryptography](#quantum.crypto)\n",
    "    1. [Applications](#quantum.crypto.apps)\n",
    "        1. [Quantum key distribution](#quantum.crypto.apps.qkd)\n",
    "        2. [Mistrustful quantum cryptography](#quantum.crypto.apps.mqc)\n",
    "        3. [Bounded- and noisy-quantum-storage model](#quantum.crypto.apps.bounded)\n",
    "        4. [(Maybe more, or less)](#quantum.crypto.apps.more)\n",
    "    2. [Post-quantum cryptography](#quantum.post)\n",
    "    3. [Implementation in practice](#quantum.practice)\n",
    "        1. [Single-photon source assumption](#quantum.practice.single)\n",
    "        2. [Identical detector efficiency assumption](#quantum.practice.identical)\n",
    "3. [References](#refs)"
   ]
  },
  {
   "cell_type": "markdown",
   "id": "c454f3df",
   "metadata": {},
   "source": [
    "<a id=\"intro\"></a>\n",
    "# Introduction"
   ]
  },
  {
   "cell_type": "markdown",
   "id": "8d7d51ba",
   "metadata": {},
   "source": [
    "[...]"
   ]
  },
  {
   "cell_type": "markdown",
   "id": "c9986d4c",
   "metadata": {},
   "source": [
    "<a id=\"intro.crypto\"></a>\n",
    "## Knapsack cryptosystems"
   ]
  },
  {
   "cell_type": "markdown",
   "id": "53d1d0a3",
   "metadata": {},
   "source": [
    "Knapsack Cryptosystems are cryptosystems which security is based on the hardness of solving the knapsack problem. They remain quite unpopular because simple versions of these algorithms have been broken for several decades. However, that type of cryptosystem is a good candidate for post-quantum cryptography.\n",
    "\n",
    "[...]"
   ]
  },
  {
   "cell_type": "markdown",
   "id": "d12c42d4",
   "metadata": {},
   "source": [
    "<a id=\"intro.merkle\"></a>\n",
    "## Merkle–Hellman knapsack cryptosystem"
   ]
  },
  {
   "cell_type": "markdown",
   "id": "1eba70c0",
   "metadata": {},
   "source": [
    "The most famous knapsack cryptosystem is the Merkle-Hellman Public Key Cryptosystem, one of the first public key cryptosystems, published the same year as the RSA cryptosystem.\n",
    "\n",
    "[...]"
   ]
  },
  {
   "cell_type": "markdown",
   "id": "c4a5efcb",
   "metadata": {},
   "source": [
    "<a id=\"intro.other\"></a>\n",
    "## (Other or not) knapsack cryptosystem"
   ]
  },
  {
   "cell_type": "markdown",
   "id": "3ed3995c",
   "metadata": {},
   "source": [
    "[...]"
   ]
  },
  {
   "cell_type": "markdown",
   "id": "e3a2f575",
   "metadata": {},
   "source": [
    "<a id=\"quantum.crypto\"></a>\n",
    "# Quantum Cryptography"
   ]
  },
  {
   "cell_type": "markdown",
   "id": "0ee80ed0",
   "metadata": {},
   "source": [
    "Quantum cryptography is the science of exploiting quantum mechanical properties to perform cryptographic tasks.\n",
    "\n",
    "[...]"
   ]
  },
  {
   "cell_type": "markdown",
   "id": "9aaae506",
   "metadata": {},
   "source": [
    "<a id=\"quantum.crypto.apps\"></a>\n",
    "## Applications"
   ]
  },
  {
   "cell_type": "markdown",
   "id": "3e216b5a",
   "metadata": {},
   "source": [
    "[...]"
   ]
  },
  {
   "cell_type": "markdown",
   "id": "3a7cd258",
   "metadata": {},
   "source": [
    "<a id=\"quantum.crypto.apps.qkd\"></a>\n",
    "### Quantum key distribution"
   ]
  },
  {
   "cell_type": "markdown",
   "id": "f9f8a8cf",
   "metadata": {},
   "source": [
    "[...]"
   ]
  },
  {
   "cell_type": "markdown",
   "id": "5c34ffbc",
   "metadata": {},
   "source": [
    "<a id=\"quantum.crypto.apps.mqca\"></a>\n",
    "### Mistrustful quantum cryptography]"
   ]
  },
  {
   "cell_type": "markdown",
   "id": "23d1b641",
   "metadata": {},
   "source": [
    "<a id=\"refs\"></a>\n",
    "# References"
   ]
  },
  {
   "cell_type": "markdown",
   "id": "a2b8019d",
   "metadata": {},
   "source": [
    "- [Ref1](https://ref1.com)\n",
    "- [Ref2](https://ref2.com)\n",
    "- [Ref3](https://ref3.com)"
   ]
  },
  {
   "cell_type": "code",
   "execution_count": null,
   "id": "26eb5745",
   "metadata": {},
   "outputs": [],
   "source": []
  }
 ],
 "metadata": {
  "kernelspec": {
   "display_name": "Python 3 (ipykernel)",
   "language": "python",
   "name": "python3"
  },
  "language_info": {
   "codemirror_mode": {
    "name": "ipython",
    "version": 3
   },
   "file_extension": ".py",
   "mimetype": "text/x-python",
   "name": "python",
   "nbconvert_exporter": "python",
   "pygments_lexer": "ipython3",
   "version": "3.9.12"
  }
 },
 "nbformat": 4,
 "nbformat_minor": 5
}
