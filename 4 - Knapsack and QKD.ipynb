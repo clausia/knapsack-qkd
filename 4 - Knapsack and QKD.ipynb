{
 "cells": [
  {
   "cell_type": "markdown",
   "id": "ff1c3eb7",
   "metadata": {},
   "source": [
    "<div align=\"center\" style=\"color: #2471A3; font-size: 30px; font-weight: bold;\">Knapsack and QKD</div>"
   ]
  },
  {
   "cell_type": "markdown",
   "id": "49201751",
   "metadata": {},
   "source": [
    "<div align=\"right\" style=\"font-size: 15px; font-weight: normal;\">Team 4</div>\n",
    "<div align=\"right\" style=\"font-size: 15px; font-weight: normal;\">[Our names]</div>"
   ]
  },
  {
   "cell_type": "markdown",
   "id": "4f259478",
   "metadata": {},
   "source": [
    "# Contents\n",
    "\n",
    "1. [Knapsack encoding for secured quantum key distribution protocol](#intro)\n",
    "    1. [Sub topic](#intro.sub1)\n",
    "    2. [Sub topic](#intro.sub2)\n",
    "2. [Implementation (?) (code?)](#impl)\n",
    "    1. [Solving classically](#impl.class)\n",
    "    2. [Solving quantumly](#impl.quantum)\n",
    "3. [References](#refs)"
   ]
  },
  {
   "cell_type": "markdown",
   "id": "6d7f21b6",
   "metadata": {},
   "source": [
    "<a id=\"intro\"></a>\n",
    "# Knapsack encoding for secured quantum key distribution protocol"
   ]
  },
  {
   "cell_type": "markdown",
   "id": "232d18c7",
   "metadata": {},
   "source": [
    "[this is the abstract of the paper \"[Knapsack encoding for secured quantum key distribution protocol](https://www.worldscientific.com/doi/10.1142/S0217732320502958)\"]\n",
    "\n",
    "[this is just an example of wording]\n",
    "\n",
    "Quantum cryptography has of late opened up the possibilities of exploiting the characteristics of quantum mechanics in the realm of network security. An interesting problem in cryptography is the distribution of the encryption key between the two parties involved in communication. This paper proposes a secure quantum key distribution protocol using the properties of super increasing knapsack sequences. The mapping from the knapsack sequences to the quantum states is achieved by rotating a three-bit quantum tuple."
   ]
  },
  {
   "cell_type": "markdown",
   "id": "1235fbd8",
   "metadata": {},
   "source": [
    "<a id=\"impl\"></a>\n",
    "# Implementation (?) (code?)"
   ]
  },
  {
   "cell_type": "markdown",
   "id": "042d796e",
   "metadata": {},
   "source": [
    "<a id=\"impl.class\"></a>\n",
    "## Solving classically"
   ]
  },
  {
   "cell_type": "markdown",
   "id": "22b3a460",
   "metadata": {},
   "source": [
    "[...]"
   ]
  },
  {
   "cell_type": "markdown",
   "id": "b69f3822",
   "metadata": {},
   "source": [
    "<a id=\"impl.class\"></a>\n",
    "## Solving quantumly"
   ]
  },
  {
   "cell_type": "markdown",
   "id": "d2260548",
   "metadata": {},
   "source": [
    "[...]"
   ]
  },
  {
   "cell_type": "markdown",
   "id": "41eb53b1",
   "metadata": {},
   "source": [
    "<a id=\"refs\"></a>\n",
    "# References"
   ]
  },
  {
   "cell_type": "markdown",
   "id": "b8621a8b",
   "metadata": {},
   "source": [
    "- [Ref1](https://ref1.com)\n",
    "- [Ref2](https://ref2.com)\n",
    "- [Ref3](https://ref3.com)"
   ]
  },
  {
   "cell_type": "code",
   "execution_count": null,
   "id": "feb72df7",
   "metadata": {},
   "outputs": [],
   "source": []
  }
 ],
 "metadata": {
  "kernelspec": {
   "display_name": "Python 3 (ipykernel)",
   "language": "python",
   "name": "python3"
  },
  "language_info": {
   "codemirror_mode": {
    "name": "ipython",
    "version": 3
   },
   "file_extension": ".py",
   "mimetype": "text/x-python",
   "name": "python",
   "nbconvert_exporter": "python",
   "pygments_lexer": "ipython3",
   "version": "3.9.12"
  }
 },
 "nbformat": 4,
 "nbformat_minor": 5
}
